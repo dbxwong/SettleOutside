{
  "nbformat": 4,
  "nbformat_minor": 0,
  "metadata": {
    "colab": {
      "name": "COCO_damage_detector.ipynb",
      "provenance": [],
      "authorship_tag": "ABX9TyMeEBBrNk6lBCj1q1vN3Yig",
      "include_colab_link": true
    },
    "kernelspec": {
      "name": "python3",
      "display_name": "Python 3"
    },
    "language_info": {
      "name": "python"
    },
    "accelerator": "GPU"
  },
  "cells": [
    {
      "cell_type": "markdown",
      "metadata": {
        "id": "view-in-github",
        "colab_type": "text"
      },
      "source": [
        "<a href=\"https://colab.research.google.com/github/dbxwong/SettleOutside/blob/main/COCO_damage_detector.ipynb\" target=\"_parent\"><img src=\"https://colab.research.google.com/assets/colab-badge.svg\" alt=\"Open In Colab\"/></a>"
      ]
    },
    {
      "cell_type": "code",
      "metadata": {
        "id": "HdiFYoODwlsQ"
      },
      "source": [
        "caa 19 Nov 2021"
      ],
      "execution_count": null,
      "outputs": []
    },
    {
      "cell_type": "markdown",
      "metadata": {
        "id": "F2rJFUFZwqhb"
      },
      "source": [
        "**Installation**\n",
        "\n",
        "Most of the libraries required for visualization like skimage and matplotlib come preinstalled in kaggle environment.\n",
        "One library required to visualize COCO dataset is Pycocotools which can be installed using the following command. pip install 'git+https://github.com/cocodataset/cocoapi.git#subdirectory=PythonAPI"
      ]
    },
    {
      "cell_type": "code",
      "metadata": {
        "id": "PGi-5moiws03"
      },
      "source": [
        "!pip install 'git+https://github.com/cocodataset/cocoapi.git#subdirectory=PythonAPI'"
      ],
      "execution_count": null,
      "outputs": []
    },
    {
      "cell_type": "code",
      "metadata": {
        "id": "Vf1S4H2nxKSE"
      },
      "source": [
        ""
      ],
      "execution_count": null,
      "outputs": []
    }
  ]
}